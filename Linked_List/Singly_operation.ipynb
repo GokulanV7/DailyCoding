{
 "cells": [
  {
   "cell_type": "markdown",
   "metadata": {},
   "source": [
    "# Singly LL\n",
    "# Insert Begin"
   ]
  },
  {
   "cell_type": "code",
   "execution_count": 1,
   "metadata": {},
   "outputs": [
    {
     "name": "stdout",
     "output_type": "stream",
     "text": [
      "5->8->100->5->8->"
     ]
    }
   ],
   "source": [
    "class Node:\n",
    "    def __init__(self,data):\n",
    "        self.data=data\n",
    "        self.next=None\n",
    "class SinglyList:\n",
    "    def __init__(self):\n",
    "        self.head=None\n",
    "    def traverse(self):\n",
    "        if self.head==0:\n",
    "            print(\"Linked is Empty\")\n",
    "        else:\n",
    "            a=self.head\n",
    "            while a is not None:\n",
    "                print(a.data,end=\"->\")\n",
    "                a=a.next\n",
    "    def InsertBegin(self,data):\n",
    "        new_node=Node(data)\n",
    "        new_node.next=self.head\n",
    "        self.head=new_node\n",
    "    def InsertEnd(self,data):\n",
    "        new_node=Node(data)\n",
    "        a=self.head\n",
    "        while a.next is not None:\n",
    "            a=a.next\n",
    "        a.next=new_node\n",
    "    def InsertSpecific(self,data,index):\n",
    "        if index==0:\n",
    "            self.InsertBegin(data)\n",
    "            return\n",
    "        a=self.head\n",
    "        new_node=Node(data)\n",
    "        for i in range(1,index):\n",
    "            a=a.next\n",
    "        new_node.next=a.next\n",
    "        a.next=new_node\n",
    "    def DeleteEnd(self):\n",
    "        pre=self.head\n",
    "        a=self.head.next\n",
    "        while a.next is not None:\n",
    "            a=a.next\n",
    "            pre=pre.next\n",
    "        pre.next=None\n",
    "            \n",
    "\n",
    "sll=SinglyList()\n",
    "n1=Node(5)\n",
    "sll.head=n1\n",
    "n2=Node(8)\n",
    "n1.next=n2\n",
    "sll.InsertEnd(100)\n",
    "sll.traverse()\n",
    "sll.DeleteEnd()\n",
    "sll.traverse()"
   ]
  },
  {
   "cell_type": "markdown",
   "metadata": {},
   "source": [
    "19. Remove Nth Node From End of List\n"
   ]
  },
  {
   "cell_type": "code",
   "execution_count": null,
   "metadata": {},
   "outputs": [
    {
     "name": "stdout",
     "output_type": "stream",
     "text": [
      "1->2->3->5->"
     ]
    }
   ],
   "source": [
    "class ListNode:\n",
    "    def __init__(self,data):\n",
    "        self.data=data\n",
    "        self.next=None\n",
    "\n",
    "\n",
    "def removeEnd(head,n):\n",
    "    dummy=ListNode(0)\n",
    "    dummy.next=head\n",
    "    left=right=dummy\n",
    "    \n",
    "    while n>=0:\n",
    "        right=right.next\n",
    "        n-=1\n",
    "        \n",
    "    while right:\n",
    "        right=right.next\n",
    "        left=left.next\n",
    "    left.next=left.next.next\n",
    "    return dummy.next\n",
    "def create_linkedList(lst):\n",
    "    dummy=ListNode(0)\n",
    "    cur=dummy\n",
    "    for var in lst:\n",
    "        cur.next=ListNode(var)\n",
    "        cur=cur.next\n",
    "    return dummy.next\n",
    "def traverse(s):\n",
    "    while s:\n",
    "        print(s.data,end=\"->\")\n",
    "        s=s.next\n",
    "\n",
    "s=create_linkedList([1,2,3,4,5])\n",
    "k=removeEnd(s,2)\n",
    "traverse(k)\n",
    "\n",
    "\n"
   ]
  },
  {
   "cell_type": "markdown",
   "metadata": {},
   "source": [
    "# Single LL Swaping #"
   ]
  },
  {
   "cell_type": "code",
   "execution_count": 2,
   "metadata": {},
   "outputs": [
    {
     "name": "stdout",
     "output_type": "stream",
     "text": [
      "2 1 4 3 "
     ]
    }
   ],
   "source": [
    "class ListNode:\n",
    "    def __init__(self,data):\n",
    "        self.data=data\n",
    "        self.next=None\n",
    "# Recursive function to swap data of nodes in pairs\n",
    "def pairwiseSwap(head):\n",
    "    if head is None or head.next is None:\n",
    "        return\n",
    "    head.data, head.next.data = head.next.data, head.data\n",
    "    pairwiseSwap(head.next.next)\n",
    "        \n",
    "def createlist(lst):\n",
    "    dummy=ListNode(0)\n",
    "    cur=dummy\n",
    "    for i in lst:\n",
    "        cur.next=ListNode(i)\n",
    "        cur=cur.next\n",
    "    return dummy.next\n",
    "def traverse(s):\n",
    "    while s:\n",
    "        print(s.data,end=\" \")\n",
    "        s=s.next\n",
    "lst=[1,2,3,4]\n",
    "d=createlist(lst)\n",
    "swap=pairwiseSwap(d)\n",
    "traverse(d)"
   ]
  },
  {
   "cell_type": "code",
   "execution_count": null,
   "metadata": {},
   "outputs": [
    {
     "name": "stdout",
     "output_type": "stream",
     "text": [
      "2->8->5->3->4->"
     ]
    }
   ],
   "source": [
    "class ListNode:\n",
    "    def __init__(self,data):\n",
    "        self.data=data\n",
    "        self.next=None\n",
    "\n",
    "def sort(d):\n",
    "    pre=s\n",
    "    cur=cur.next\n",
    "    while pre.data>0 and pre.data>cur.data:\n",
    "        temp=pre.data\n",
    "        pre.data=cur.data\n",
    "        cur.data=temp\n",
    "\n",
    "        pre=pre.next\n",
    "        cur=cur.next\n",
    "        \n",
    "\n",
    "\n",
    "\n",
    "\n",
    "\n",
    "\n",
    "def createlist(j):\n",
    "    dummy=ListNode(0)\n",
    "    cur=dummy\n",
    "    for i in j:\n",
    "        cur.next=ListNode(i)\n",
    "        cur=cur.next\n",
    "    return dummy.next\n",
    "\n",
    "def traverse(s):\n",
    "    while s:\n",
    "        print(s.data,end=\"->\")\n",
    "        s=s.next\n",
    "lst=[2,8,5,3,4]\n",
    "d=createlist(lst)\n",
    "traverse(d)\n",
    "sort(d)\n",
    "\n"
   ]
  }
 ],
 "metadata": {
  "kernelspec": {
   "display_name": "sfs",
   "language": "python",
   "name": "python3"
  },
  "language_info": {
   "codemirror_mode": {
    "name": "ipython",
    "version": 3
   },
   "file_extension": ".py",
   "mimetype": "text/x-python",
   "name": "python",
   "nbconvert_exporter": "python",
   "pygments_lexer": "ipython3",
   "version": "3.13.2"
  }
 },
 "nbformat": 4,
 "nbformat_minor": 2
}
