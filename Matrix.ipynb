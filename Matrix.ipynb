{
 "cells": [
  {
   "cell_type": "code",
   "execution_count": null,
   "metadata": {},
   "outputs": [],
   "source": [
    "# def diagonal(l):\n",
    "#     n=len(l)\n",
    "#     primary_diagonal=[l[i][i] for i in range(n)]\n",
    "#     secondary_diagonal=[l[i][n-i-1] for i in range(n)]\n",
    "\n",
    "\n",
    "\n",
    "m=int(input())\n",
    "n=int(input())\n",
    "matrix=[]\n",
    "for i in range(len(m)):\n",
    "    l=[]\n",
    "    l.append(int(input()))\n",
    "matrix.append(k)\n",
    "for j in range(len(n)):\n",
    "    k=[]\n",
    "    k.append(int(input()))\n",
    "matrix.append(k)\n",
    "\n",
    "print(matrix)\n",
    "\n",
    "\n"
   ]
  },
  {
   "cell_type": "code",
   "execution_count": null,
   "metadata": {},
   "outputs": [],
   "source": []
  }
 ],
 "metadata": {
  "kernelspec": {
   "display_name": "sfs",
   "language": "python",
   "name": "python3"
  },
  "language_info": {
   "codemirror_mode": {
    "name": "ipython",
    "version": 3
   },
   "file_extension": ".py",
   "mimetype": "text/x-python",
   "name": "python",
   "nbconvert_exporter": "python",
   "pygments_lexer": "ipython3",
   "version": "3.13.2"
  }
 },
 "nbformat": 4,
 "nbformat_minor": 2
}
