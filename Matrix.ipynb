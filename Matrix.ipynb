{
 "cells": [
  {
   "cell_type": "code",
   "execution_count": null,
   "metadata": {},
   "outputs": [],
   "source": [
    "# def diagonal(l):\n",
    "#     n=len(l)\n",
    "#     primary_diagonal=[l[i][i] for i in range(n)]\n",
    "#     secondary_diagonal=[l[i][n-i-1] for i in range(n)]\n",
    "\n",
    "\n",
    "\n",
    "m=int(input())\n",
    "n=int(input())\n",
    "matrix=[]\n",
    "for i in range(len(m)):\n",
    "    l=[]\n",
    "    l.append(int(input()))\n",
    "matrix.append(k)\n",
    "for j in range(len(n)):\n",
    "    k=[]\n",
    "    k.append(int(input()))\n",
    "matrix.append(k)\n",
    "\n",
    "print(matrix)\n",
    "\n",
    "\n"
   ]
  },
  {
   "cell_type": "markdown",
   "metadata": {},
   "source": [
    "# SPIRAL MATRIX REVERSE \n"
   ]
  },
  {
   "cell_type": "code",
   "execution_count": null,
   "metadata": {},
   "outputs": [
    {
     "name": "stdout",
     "output_type": "stream",
     "text": [
      "\n",
      "\n",
      "\n",
      "\n",
      "\n",
      "[1, 5, 9, 10, 11, 7, 3, 2, 6, 7]\n"
     ]
    }
   ],
   "source": [
    "m=int(input())\n",
    "n=int(input())\n",
    "matrix=[]\n",
    "result=[]\n",
    "for _ in range(m):\n",
    "    matrix.append(list(map(int,input().split())))\n",
    "\n",
    "top=0\n",
    "left=0\n",
    "bottom=len(matrix)-1\n",
    "right=len(matrix[0])-1\n",
    "\n",
    "while top<=bottom and left <= right:\n",
    "    for i in range(top,bottom+1):\n",
    "        result.append(matrix[i][left])\n",
    "    left+=1\n",
    "    for i in range(left,right+1):\n",
    "        result.append(matrix[bottom][i])\n",
    "    bottom-=1\n",
    "    \n",
    "    if left<=right:\n",
    "        for i in range(bottom,top-1,-1):\n",
    "            result.append(matrix[i][right])\n",
    "        right-=1\n",
    "    if top<=bottom:\n",
    "        for i in range(right,left-1,-1):\n",
    "            result.append(matrix[top][i])\n",
    "        top+=1\n",
    "print(result)\n",
    "            \n",
    "         "
   ]
  },
  {
   "cell_type": "code",
   "execution_count": null,
   "metadata": {},
   "outputs": [],
   "source": [
    "m=int(input())\n",
    "n=int(input())\n",
    "matrix=[]\n",
    "result=[]\n",
    "\n",
    "for _ in range(m):\n",
    "    matrix.append(list(map(int,input().split())))\n",
    "\n",
    "top,bottom,left,right=0,len(matrix)-1,0,len(matrix[0])-1\n",
    "\n",
    "while left<=right and top<=right:\n",
    "    for i in range(left,right+1):\n",
    "        result.append(matrix[top][i])\n",
    "    top+=1\n",
    "    for i in range(top,bottom+1):\n",
    "        result.append(matrix[i][right])\n",
    "    right-=1\n",
    "    \n",
    "    if top<=bottom:\n",
    "        for i in range(right,left-1,-1):\n",
    "            result.append(matrix[bottom][i])\n",
    "        bottom-=1\n",
    "    if left<=right:\n",
    "        for i in range(bottom,top-1,-1):\n",
    "            result.append(matrix[i][left])\n",
    "        left+=1\n",
    "print(\" \".join(map(str,result)))\n",
    "        "
   ]
  }
 ],
 "metadata": {
  "kernelspec": {
   "display_name": "sfs",
   "language": "python",
   "name": "python3"
  },
  "language_info": {
   "codemirror_mode": {
    "name": "ipython",
    "version": 3
   },
   "file_extension": ".py",
   "mimetype": "text/x-python",
   "name": "python",
   "nbconvert_exporter": "python",
   "pygments_lexer": "ipython3",
   "version": "3.13.2"
  }
 },
 "nbformat": 4,
 "nbformat_minor": 2
}
