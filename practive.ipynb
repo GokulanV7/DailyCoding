{
 "cells": [
  {
   "cell_type": "markdown",
   "metadata": {},
   "source": [
    "Fibonnoci Numbers"
   ]
  },
  {
   "cell_type": "code",
   "execution_count": 16,
   "metadata": {},
   "outputs": [
    {
     "name": "stdout",
     "output_type": "stream",
     "text": [
      "01\n"
     ]
    }
   ],
   "source": [
    "def fibonacci(n):\n",
    "    if n <= 0:\n",
    "        return 0\n",
    "    elif n == 1:\n",
    "        return 1\n",
    "    else:\n",
    "        return fibonacci(n-1) + fibonacci(n-2)\n",
    "\n",
    "\n",
    "n=2\n",
    "a=fibonacci(n)\n",
    "v=str(a)\n",
    "f=v[-2:]\n",
    "if len(f)==1: \n",
    "    print('0'+f)\n",
    "else:\n",
    "    print(f)\n",
    "\n",
    "\n"
   ]
  },
  {
   "cell_type": "code",
   "execution_count": 16,
   "metadata": {},
   "outputs": [
    {
     "name": "stdout",
     "output_type": "stream",
     "text": [
      "(ab)\n"
     ]
    }
   ],
   "source": [
    "k='(ab)))))))))))))'\n",
    "k=list(map(str,k))\n",
    "\n",
    "j=k.count('(')\n",
    "h=k.count(')')\n",
    "while j!=1 or h!=1:\n",
    "    if j>1:\n",
    "        k.remove('(')\n",
    "        j-=1\n",
    "    if h>1:\n",
    "        k.remove(')')\n",
    "        h-=1\n",
    "        \n",
    "print(''.join(k))"
   ]
  },
  {
   "cell_type": "code",
   "execution_count": null,
   "metadata": {},
   "outputs": [
    {
     "data": {
      "text/plain": [
       "'s'"
      ]
     },
     "execution_count": 19,
     "metadata": {},
     "output_type": "execute_result"
    }
   ],
   "source": [
    "l='qws'\n",
    "l[2:]"
   ]
  },
  {
   "cell_type": "code",
   "execution_count": null,
   "metadata": {},
   "outputs": [
    {
     "name": "stdout",
     "output_type": "stream",
     "text": [
      "64\n"
     ]
    }
   ],
   "source": [
    "## nearest num divisible by m\n",
    "def frontnear(num,m):\n",
    "    while num%m!=0:\n",
    "        num+=1\n",
    "    return num\n",
    "def backnear(num,m):\n",
    "    i=num-1\n",
    "    while i>0:\n",
    "        if i%m==0:\n",
    "            return i\n",
    "        i-=1\n",
    "num=67\n",
    "i=num\n",
    "m=8\n",
    "frontresult=frontnear(num,m)\n",
    "backresult=backnear(num,m)\n",
    "print(min(frontresult,backresult))"
   ]
  },
  {
   "cell_type": "code",
   "execution_count": 8,
   "metadata": {},
   "outputs": [
    {
     "name": "stdout",
     "output_type": "stream",
     "text": [
      "null\n"
     ]
    }
   ],
   "source": [
    "def findshortest(start,end,dict_1):\n",
    "    if dict_1[0]==start and dict_1[len(dict_1)-1]==end:\n",
    "        return dict_1\n",
    "    elif dict_1[0]!=start and dict_1[len(dict_1)-1]==end:\n",
    "        dict_1.pop(0)\n",
    "        dict_1.insert(0,start)\n",
    "        return dict_1\n",
    "    elif dict_1[0]==start and dict_1[len(dict_1)-1]!=end:\n",
    "        dict_1.pop()\n",
    "        dict_1.append(end)\n",
    "        return dict_1\n",
    "    return 'null'\n",
    "    \n",
    "start='dog'\n",
    "end='cat'\n",
    "dict_1=['dot','dop','dot','io']\n",
    "s=findshortest(start,end,dict_1)\n",
    "print(s)\n",
    "\n",
    "\n",
    "\n",
    "\n"
   ]
  },
  {
   "cell_type": "code",
   "execution_count": null,
   "metadata": {},
   "outputs": [
    {
     "name": "stdout",
     "output_type": "stream",
     "text": [
      "['dog', 'dot', 'dat', 'cat']\n"
     ]
    }
   ],
   "source": [
    "#BFS Shortest Transformation\n",
    "\n",
    "\n",
    "\n",
    "from collections import deque\n",
    "\n",
    "def is_adjacent(word1,word2):\n",
    "        if len(word1)!=len(word2):\n",
    "            return False\n",
    "        diff_count=sum(1 for a,b in zip(word1,word2) if a!=b)\n",
    "        return diff_count==1\n",
    "\n",
    "def find_shortest(start,end,dict_list):\n",
    "        word_set=set(dict_list)\n",
    "        if end not in dict_list:\n",
    "                return 'null'\n",
    "        queue=deque([[start]])\n",
    "\n",
    "        while queue:\n",
    "                path=queue.popleft()\n",
    "                last_word=path[-1]\n",
    "\n",
    "                if last_word==end:\n",
    "                    return path\n",
    "                for word in list(word_set):\n",
    "                    if is_adjacent(last_word,word):\n",
    "                            new_path=path+[word]\n",
    "                            queue.append(new_path)\n",
    "                            word_set.remove(word)\n",
    "        return 'null'\n",
    "\n",
    "    \n",
    "\n",
    "start='dog'\n",
    "end='cat'\n",
    "dict_list=[\"dot\", \"dop\", \"dat\", \"cat\"]\n",
    "shortest_path = find_shortest(start, end, dict_list)\n",
    "print(shortest_path)\n"
   ]
  },
  {
   "cell_type": "code",
   "execution_count": null,
   "metadata": {},
   "outputs": [
    {
     "name": "stdout",
     "output_type": "stream",
     "text": [
      "[0, 8]\n"
     ]
    }
   ],
   "source": [
    "l=[[9,1,7],[8,9,2],[3,4,6]]\n",
    "merage=[]\n",
    "for n in l:\n",
    "    merage+=n\n",
    "count=0\n",
    "merage.sort()\n",
    "n=len(merage)\n",
    "se_l=set()\n",
    "repeat=0\n",
    "for i in range(n):\n",
    "    j=i+1\n",
    "    if j!=merage[i]:\n",
    "        notfound=j\n",
    "    else:\n",
    "        if j==merage[i]:\n",
    "            se_l.add(merage[i])\n",
    "        elif j in se_l:\n",
    "            repeat=j\n",
    "        \n",
    "print([repeat,notfound])"
   ]
  },
  {
   "cell_type": "code",
   "execution_count": 3,
   "metadata": {},
   "outputs": [
    {
     "name": "stdout",
     "output_type": "stream",
     "text": [
      "[2, 4]\n"
     ]
    }
   ],
   "source": [
    "l=[[1,3],[2,2]]\n",
    "list1=sum(l,[])\n",
    "mis_num=[]\n",
    "mis_num=[max(set(list1),key=list1.count)]\n",
    "for i in range(1,len(list1)+1):\n",
    "    if i not in list1:\n",
    "        mis_num.append(i)\n",
    "print(mis_num)"
   ]
  },
  {
   "cell_type": "code",
   "execution_count": null,
   "metadata": {},
   "outputs": [],
   "source": []
  },
  {
   "cell_type": "code",
   "execution_count": null,
   "metadata": {},
   "outputs": [],
   "source": [
    "dial_pad = {\n",
    "    1: \" \",       # No letters assigned\n",
    "    2: \"abc\",\n",
    "    3: \"def\",\n",
    "    4: \"ghi\",\n",
    "    5: \"jkl\",\n",
    "    6: \"mno\",\n",
    "    7: \"pqrs\",\n",
    "    8: \"tuv\",\n",
    "    9: \"wxyz\",\n",
    "    0: \" \"       # Usually space or no letters\n",
    "}\n",
    "n=int(input())\n",
    "for i in range(n):\n",
    "    j=input()\n",
    "    c=''\n",
    "    for key,value in dial_pad.items():\n",
    "        for v in j:\n",
    "            if v in value:\n",
    "                c+=str(key)\n",
    "    print(c)"
   ]
  },
  {
   "cell_type": "code",
   "execution_count": 15,
   "metadata": {},
   "outputs": [
    {
     "name": "stdout",
     "output_type": "stream",
     "text": [
      "199\n"
     ]
    }
   ],
   "source": [
    "def count_wrong_positions(n, heights):\n",
    "    sorted_heights = sorted(heights)  # Get the correct order\n",
    "    wrong_positions = sum(1 for i in range(n) if heights[i] != sorted_heights[i])\n",
    "    return wrong_positions\n",
    "\n",
    "\n",
    "n = 200  \n",
    "heights = [184, 87, 178, 116, 194, 136, 187, 93, 50, 22, 163, 28, 91, 60, 164, 127, \n",
    "           141, 27, 173, 137, 12, 169, 168, 30, 183, 131, 63, 124, 68, 130, 3, 23, \n",
    "           59, 70, 57, 43, 174, 120, 185, 138, 199, 125, 171, 14, 92, 181, 157, 74, \n",
    "           197, 82, 106, 126, 85, 128, 47, 114, 58, 96, 146, 15, 35, 165, 44, 151, \n",
    "           88, 9, 77, 179, 189, 4, 52, 155, 200, 133, 61, 140, 13, 95, 196, 2, 98, \n",
    "           103, 118, 53, 102, 81, 42, 66, 90, 45, 20, 41, 32, 172, 76, 110, 154, \n",
    "           166, 107, 84, 25, 129, 72, 104, 71, 109, 150, 19, 46, 122, 156, 180, 89, \n",
    "           29, 101, 115, 188, 144, 33, 152, 38, 8, 75, 36, 177, 5, 139, 7, 105, \n",
    "           170, 100, 191, 83, 143, 65, 198, 108, 149, 147, 112, 11, 6, 62, 79, 121, \n",
    "           123, 17, 1, 37, 69, 132, 134, 182, 160, 67, 10, 56, 31, 73, 51, 26, 186, \n",
    "           99, 195, 162, 145, 190, 159, 49, 34, 54, 153, 176, 158, 40, 48, 135, 16, \n",
    "           86, 39, 142, 161, 24, 78, 113, 117, 80, 21, 167, 18, 119, 94, 192, 175, \n",
    "           148, 55, 111, 64, 97, 193] # Heights of students\n",
    "\n",
    "# Output\n",
    "print(count_wrong_positions(n, heights))\n"
   ]
  }
 ],
 "metadata": {
  "kernelspec": {
   "display_name": "sfs",
   "language": "python",
   "name": "python3"
  },
  "language_info": {
   "codemirror_mode": {
    "name": "ipython",
    "version": 3
   },
   "file_extension": ".py",
   "mimetype": "text/x-python",
   "name": "python",
   "nbconvert_exporter": "python",
   "pygments_lexer": "ipython3",
   "version": "3.13.2"
  }
 },
 "nbformat": 4,
 "nbformat_minor": 2
}
