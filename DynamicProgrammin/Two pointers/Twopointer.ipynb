{
 "cells": [
  {
   "cell_type": "markdown",
   "metadata": {},
   "source": [
    "# Remove Element return the array"
   ]
  },
  {
   "cell_type": "code",
   "execution_count": 1,
   "metadata": {},
   "outputs": [
    {
     "name": "stdout",
     "output_type": "stream",
     "text": [
      "6\n"
     ]
    }
   ],
   "source": [
    "l=[0,1,2,2,3,0,4,6]\n",
    "left=0\n",
    "value=2\n",
    "for right in range(len(l)):\n",
    "    if l[right]!=value:\n",
    "        l[left]=l[right]\n",
    "        left+=1\n",
    "print(left)"
   ]
  },
  {
   "cell_type": "markdown",
   "metadata": {},
   "source": [
    "# Find the Index of the First Occurrence in a String\n"
   ]
  },
  {
   "cell_type": "code",
   "execution_count": 7,
   "metadata": {},
   "outputs": [
    {
     "name": "stdout",
     "output_type": "stream",
     "text": [
      "0\n"
     ]
    }
   ],
   "source": [
    "def find(haystack,needle):\n",
    "    left=0\n",
    "    while left<=len(haystack)-len(needle):\n",
    "        v=haystack[left:left+len(needle)]\n",
    "        if v==needle:\n",
    "            return left\n",
    "        left+=1\n",
    "    return -1\n",
    "\n",
    "haystack='sadbutsad'\n",
    "needle='sad'\n",
    "s=find(haystack,needle)\n",
    "print(s)"
   ]
  }
 ],
 "metadata": {
  "kernelspec": {
   "display_name": "sfs",
   "language": "python",
   "name": "python3"
  },
  "language_info": {
   "codemirror_mode": {
    "name": "ipython",
    "version": 3
   },
   "file_extension": ".py",
   "mimetype": "text/x-python",
   "name": "python",
   "nbconvert_exporter": "python",
   "pygments_lexer": "ipython3",
   "version": "3.13.2"
  }
 },
 "nbformat": 4,
 "nbformat_minor": 2
}
