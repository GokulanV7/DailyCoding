{
 "cells": [
  {
   "cell_type": "markdown",
   "metadata": {},
   "source": []
  },
  {
   "cell_type": "markdown",
   "metadata": {},
   "source": [
    "# Fibonaaci numbers n times"
   ]
  },
  {
   "cell_type": "code",
   "execution_count": 10,
   "metadata": {},
   "outputs": [
    {
     "name": "stdout",
     "output_type": "stream",
     "text": [
      "[0, 1, 1, 1, 2, 3, 5]\n"
     ]
    }
   ],
   "source": [
    "l=5\n",
    "result=[0,1]\n",
    "first,second=0,1\n",
    "for i in range(l):\n",
    "    temp=first\n",
    "    first=first+second\n",
    "    second=temp\n",
    "    result.append(first)\n",
    "\n",
    "print(result)"
   ]
  },
  {
   "cell_type": "markdown",
   "metadata": {},
   "source": [
    "# Climbing Stairs   "
   ]
  },
  {
   "cell_type": "code",
   "execution_count": 2,
   "metadata": {},
   "outputs": [
    {
     "name": "stdout",
     "output_type": "stream",
     "text": [
      "8\n"
     ]
    }
   ],
   "source": [
    "l=5\n",
    "one,two=1,1\n",
    "for i in range(l-1):\n",
    "    temp=one\n",
    "    one=one+two\n",
    "    two=temp\n",
    "print(one)\n"
   ]
  }
 ],
 "metadata": {
  "kernelspec": {
   "display_name": "sfs",
   "language": "python",
   "name": "python3"
  },
  "language_info": {
   "codemirror_mode": {
    "name": "ipython",
    "version": 3
   },
   "file_extension": ".py",
   "mimetype": "text/x-python",
   "name": "python",
   "nbconvert_exporter": "python",
   "pygments_lexer": "ipython3",
   "version": "3.13.2"
  }
 },
 "nbformat": 4,
 "nbformat_minor": 2
}
