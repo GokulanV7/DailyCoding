{
 "cells": [
  {
   "cell_type": "code",
   "execution_count": null,
   "metadata": {},
   "outputs": [],
   "source": [
    "def is_balanced(s):\n",
    "    stack = []\n",
    "    pairs = {')': '(', '}': '{', ']': '['}  # Matching pairs\n",
    "    \n",
    "    for char in s:\n",
    "        if char in \"({[\":  # Opening brackets\n",
    "            stack.append(char)\n",
    "        elif char in \")}]\":  # Closing brackets\n",
    "            if not stack or stack[-1] != pairs[char]:  # Check match\n",
    "                return False\n",
    "            stack.pop()  # Remove matched opening bracket\n",
    "    \n",
    "    return len(stack) == 0  # If stack is empty, it's balanced\n",
    "\n",
    "n = int(input())\n",
    "for _ in range(n):\n",
    "    p = input()\n",
    "    print(is_balanced(p))  # True if balanced, False otherwise"
   ]
  }
 ],
 "metadata": {
  "language_info": {
   "name": "python"
  }
 },
 "nbformat": 4,
 "nbformat_minor": 2
}
