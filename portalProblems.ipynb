{
 "cells": [
  {
   "cell_type": "markdown",
   "metadata": {},
   "source": []
  },
  {
   "cell_type": "code",
   "execution_count": null,
   "metadata": {},
   "outputs": [],
   "source": [
    "k=input()\n",
    "char_list=list(k)\n",
    "letters=[n for n in char_list if n.isalpha() or n.isdigit()]\n",
    "letters.reverse()\n",
    "letter_index=0\n",
    "for i in range(len(char_list)):\n",
    "    if char_list[i].isalpha() or char_list[i].isdigit():\n",
    "        char_list[i]=letters[letter_index]\n",
    "        letter_index+=1"
   ]
  },
  {
   "cell_type": "markdown",
   "metadata": {},
   "source": [
    "rotate left right"
   ]
  },
  {
   "cell_type": "code",
   "execution_count": null,
   "metadata": {},
   "outputs": [],
   "source": []
  },
  {
   "cell_type": "code",
   "execution_count": null,
   "metadata": {},
   "outputs": [],
   "source": [
    "n=int(input())\n",
    "count=0\n",
    "for i in range(n):\n",
    "    k=list(input())\n",
    "    j = int(input())\n",
    "    l = j % len(k) \n",
    "    n=len(k)-1\n",
    "    #rotate left\n",
    "    if count==0:\n",
    "        f = k[l:] + k[:l]\n",
    "        print(''.join(f))\n",
    "        count+=1\n",
    "    #rotate right\n",
    "    elif count==1:\n",
    "        g = k[-l:] + k[:-l]\n",
    "        print(''.join(g))\n",
    "        count=0"
   ]
  },
  {
   "cell_type": "code",
   "execution_count": null,
   "metadata": {},
   "outputs": [],
   "source": [
    "l='The quick brown fox jumped over the lazy dog'.split()\n",
    "v=['a','e','i','o','u']\n",
    "end='ma'\n",
    "a='a'\n",
    "store_con=''\n",
    "k=[]\n",
    "for i in range(len(l)):\n",
    "    string=str(l[i])\n",
    "    if string[0].lower() in v:\n",
    "        string=string+'ma'+(i+1)*'a'\n",
    "        k.append(string)\n",
    "    else:\n",
    "        new_sting=string[1:]\n",
    "        first_char=string[:1]\n",
    "        string=new_sting+first_char+'ma'+(i+1)*'a'\n",
    "        k.append(string)"
   ]
  },
  {
   "cell_type": "code",
   "execution_count": null,
   "metadata": {},
   "outputs": [],
   "source": [
    "#BFS Shortest Transformation\n",
    "\n",
    "\n",
    "\n",
    "from collections import deque\n",
    "\n",
    "def is_adjacent(word1,word2):\n",
    "        if len(word1)!=len(word2):\n",
    "            return False\n",
    "        diff_count=sum(1 for a,b in zip(word1,word2) if a!=b)\n",
    "        return diff_count==1\n",
    "\n",
    "def find_shortest(start,end,dict_list):\n",
    "        word_set=set(dict_list)\n",
    "        if end not in dict_list:\n",
    "                return 'null'\n",
    "        queue=deque([[start]])\n",
    "\n",
    "        while queue:\n",
    "                path=queue.popleft()\n",
    "                last_word=path[-1]\n",
    "\n",
    "                if last_word==end:\n",
    "                    return path\n",
    "                for word in list(word_set):\n",
    "                    if is_adjacent(last_word,word):\n",
    "                            new_path=path+[word]\n",
    "                            queue.append(new_path)\n",
    "                            word_set.remove(word)\n",
    "        return 'null'\n",
    "\n",
    "    \n",
    "\n",
    "start='dog'\n",
    "end='cat'\n",
    "dict_list=[\"dot\", \"dop\", \"dat\", \"cat\"]\n",
    "shortest_path = find_shortest(start, end, dict_list)\n",
    "print(shortest_path)\n"
   ]
  },
  {
   "cell_type": "code",
   "execution_count": null,
   "metadata": {},
   "outputs": [
    {
     "name": "stdout",
     "output_type": "stream",
     "text": [
      "97\n"
     ]
    }
   ],
   "source": [
    "l=['abc','abcd']\n",
    "k=2\n",
    "d=1\n",
    "mult=[]\n",
    "for i in l:\n",
    "    for j in i:\n",
    "        d*=j**k\n",
    "    \n",
    "\n"
   ]
  },
  {
   "cell_type": "code",
   "execution_count": null,
   "metadata": {},
   "outputs": [],
   "source": [
    "l=[10,5,45,125,485]\n",
    "for i in range(len(l)):\n",
    "    for j in l:\n",
    "        if l[i]%j==0:\n",
    "            print(1)\n",
    "        \n",
    "\n",
    "        \n"
   ]
  },
  {
   "cell_type": "code",
   "execution_count": null,
   "metadata": {},
   "outputs": [],
   "source": [
    "num_to_word = {\n",
    "    1: \"one\", 2: \"two\", 3: \"three\", 4: \"four\", 5: \"five\", 6: \"six\", 7: \"seven\", 8: \"eight\", 9: \"nine\", 10: \"ten\",\n",
    "}\n",
    "vowels=['a','e','i','o','u']\n",
    "n=[7,4,2]\n",
    "h=[]\n",
    "z=[]\n",
    "s=0\n",
    "nm=0\n",
    "for i in n:\n",
    "    for key,word in num_to_word.items():\n",
    "        if i==key:\n",
    "            h.append(word)\n",
    "\n",
    "for k in h:\n",
    "    for j in vowels:\n",
    "        s+=k.count(j)\n",
    "    z.append(s)\n",
    "    s=0\n",
    "x=sum(z)\n",
    "for b in range(len(n)-1):\n",
    "    w=b+1\n",
    "    if n[b]+n[w]==x:\n",
    "        nm+=1\n",
    "\n"
   ]
  },
  {
   "cell_type": "code",
   "execution_count": null,
   "metadata": {},
   "outputs": [
    {
     "data": {
      "text/plain": [
       "29"
      ]
     },
     "execution_count": 2,
     "metadata": {},
     "output_type": "execute_result"
    }
   ],
   "source": [
    "#Krihna Question Candies\n",
    "\n",
    "\n",
    "import heapq\n",
    "candies=[14,3,2,1]\n",
    "heapq.heapify(candies)\n",
    "totaltime=0\n",
    "while len(candies)>1:\n",
    "    first=heapq.heappop(candies)\n",
    "    second=heapq.heappop(candies)\n",
    "\n",
    "    merge_time=first+second\n",
    "    totaltime+=merge_time\n",
    "\n",
    "    heapq.heappush(candies,merge_time)\n",
    "\n",
    "totaltime\n",
    "    "
   ]
  },
  {
   "cell_type": "code",
   "execution_count": null,
   "metadata": {},
   "outputs": [
    {
     "name": "stdout",
     "output_type": "stream",
     "text": [
      "ad ae af bd be bf cd ce cf\n"
     ]
    }
   ],
   "source": [
    "\n",
    "def find(dial_pad,k):\n",
    "    combination=[]\n",
    "    result=[]\n",
    "    if len(k)==1:\n",
    "        if dial_pad[int(k)]:\n",
    "            return ' '.join(dial_pad[int(k)])\n",
    "    else:\n",
    "        for i in range(len(k)):\n",
    "            for key,value in dial_pad.items():\n",
    "                if int(k[i])==key:\n",
    "                    combination.append(value)\n",
    "\n",
    "        for i in range(len(combination)-1):\n",
    "            for char1 in combination[i]:\n",
    "                for char2 in combination[i+1]:\n",
    "                    result.append(char1+char2)\n",
    "        if result:\n",
    "            return ' '.join(result)\n",
    "        else:\n",
    "            return \"No Combination Strings\"\n",
    "    \n",
    "\n",
    "\n",
    "dial_pad = {\n",
    "    1: \" \",       # No letters assigned\n",
    "    2: \"abc\",\n",
    "    3: \"def\",\n",
    "    4: \"ghi\",\n",
    "    5: \"jkl\",\n",
    "    6: \"mno\",\n",
    "    7: \"pqrs\",\n",
    "    8: \"tuv\",\n",
    "    9: \"wxyz\",\n",
    "    0: \" \"       # Usually space or no letters\n",
    "}\n",
    "k=\"\"\n",
    "f=find(dial_pad,k)\n",
    "print(f)"
   ]
  },
  {
   "cell_type": "code",
   "execution_count": null,
   "metadata": {},
   "outputs": [
    {
     "name": "stdout",
     "output_type": "stream",
     "text": [
      "False\n"
     ]
    }
   ],
   "source": [
    "\n",
    "def convert_string(s,mapping):\n",
    "        l=''\n",
    "        for char in s:\n",
    "            l+=str(mapping[char])\n",
    "            l=l.lstrip(\"0\")\n",
    "        return 0 if not l else l\n",
    "            \n",
    "            \n",
    "\n",
    "char_map={'a':0}\n",
    "char_map.update({chr(i):i-97 for i in range(98,123)})\n",
    "str1='acb'\n",
    "str2='a'\n",
    "target='cdb'\n",
    "num1=int(convert_string(str1,char_map))\n",
    "num2=int(convert_string(str2,char_map))\n",
    "target1=int(convert_string(target,char_map))\n",
    "if num1+num2==target1:\n",
    "    print(True)\n",
    "else:\n",
    "    print(False)\n",
    "\n",
    "    \n",
    "\n"
   ]
  },
  {
   "cell_type": "markdown",
   "metadata": {},
   "source": [
    "# Rotate 90 degree Array #"
   ]
  },
  {
   "cell_type": "code",
   "execution_count": 1,
   "metadata": {},
   "outputs": [
    {
     "name": "stdout",
     "output_type": "stream",
     "text": [
      "[[15, 13, 2, 5], [14, 3, 4, 1], [12, 6, 8, 9], [16, 7, 10, 11]]\n"
     ]
    }
   ],
   "source": [
    "matrix=[[5,1,9,11],[2,4,8,10],[13,3,6,7],[15,14,12,16]]\n",
    "n=len(matrix)\n",
    "final=[]\n",
    "result=[]\n",
    "l=0\n",
    "for i in range(n):\n",
    "    result=[]\n",
    "    for i in range(n-1,-1,-1):\n",
    "        result.append(matrix[i][l])\n",
    "    l+=1\n",
    "    final.append(result)\n",
    "print(final)"
   ]
  },
  {
   "cell_type": "code",
   "execution_count": null,
   "metadata": {},
   "outputs": [],
   "source": [
    "# patten\n",
    "\n",
    "n=5\n",
    "gap=n-1\n",
    "U=65\n",
    "for i in range(1,n+1):\n",
    "    print(gap*' ',end='')\n",
    "    b=0\n",
    "    for j in range(i):\n",
    "        print('*',end='')\n",
    "    print(' ',end='')\n",
    "    for j in range(i):\n",
    "        \n",
    "        print(chr(U),end='')\n",
    "        U+=1\n",
    "    U-=j\n",
    "    gap-=1\n",
    "    print()\n",
    "gap=0\n",
    "\n",
    "g=0\n",
    "\n",
    "l=0\n",
    "b=0\n",
    "for i in range(n,-1,-1):\n",
    "    q=n\n",
    "    b=1+l\n",
    "    print(gap*' ',end='')\n",
    "    for j in range(i):\n",
    "        print(q,end='')\n",
    "        q-=1\n",
    "    print(' ',end='')\n",
    "    for j in range(i):\n",
    "        print(b,end='')\n",
    "        b+=2\n",
    "    l+=2\n",
    "    gap+=1\n",
    "    print()"
   ]
  },
  {
   "cell_type": "code",
   "execution_count": null,
   "metadata": {},
   "outputs": [
    {
     "name": "stdout",
     "output_type": "stream",
     "text": [
      "5 5 5 5 5 5 5 5 5 \n",
      "5 4 4 4 4 4 4 4 5 \n",
      "5 4 3 3 3 3 3 4 5 \n",
      "5 4 3 2 2 2 3 4 5 \n",
      "5 4 3 2 1 2 3 4 5 \n",
      "5 4 3 2 2 2 3 4 5 \n",
      "5 4 3 3 3 3 3 4 5 \n",
      "5 4 4 4 4 4 4 4 5 \n",
      "5 5 5 5 5 5 5 5 5 \n"
     ]
    }
   ],
   "source": [
    "n=5\n",
    "size=(2*5)-1\n",
    "k=1\n",
    "value=n\n",
    "matrix=[[0 for i in range(size)] for j in range(size)]\n",
    "for i in range(n):\n",
    "    for j in range(i,size-i):\n",
    "        matrix[i][j]=value\n",
    "        matrix[size-i-1][j]=value\n",
    "        matrix[j][i]=value\n",
    "        matrix[j][size-i-1]=value\n",
    "    value-=1\n",
    "\n",
    "for i in range(size):\n",
    "    for j in range(size):\n",
    "        print(matrix[i][j],end=' ')\n",
    "    print()"
   ]
  },
  {
   "cell_type": "code",
   "execution_count": null,
   "metadata": {},
   "outputs": [],
   "source": [
    "dial_pad = {\n",
    "    1: \" \",\n",
    "    2: \"abc\",\n",
    "    3: \"def\",\n",
    "    4: \"ghi\",\n",
    "    5: \"jkl\",\n",
    "    6: \"mno\",\n",
    "    7: \"pqrs\",\n",
    "    8: \"tuv\",\n",
    "    9: \"wxyz\",\n",
    "    0: \" \"       \n",
    "}\n",
    "g={}\n",
    "n=int(input())\n",
    "for i in range(n):\n",
    "    j=input().split()\n",
    "    h=''\n",
    "    for b in j:\n",
    "        for key,value in dial_pad.items():\n",
    "                if b in value:\n",
    "                     h+=str(value)\n",
    "    print(h)"
   ]
  },
  {
   "cell_type": "markdown",
   "metadata": {},
   "source": [
    "# Bit Manipulations #"
   ]
  },
  {
   "cell_type": "code",
   "execution_count": 5,
   "metadata": {},
   "outputs": [
    {
     "data": {
      "text/plain": [
       "False"
      ]
     },
     "execution_count": 5,
     "metadata": {},
     "output_type": "execute_result"
    }
   ],
   "source": [
    "## LSB and MSB Should be ON (ON Means 1)\n",
    "def find(n):\n",
    "    lsb_on=(n&1)!=0\n",
    "\n",
    "    msb_pos=n.bit_length()-1\n",
    "    msb_mask=1<<msb_pos\n",
    "    msb_on=(n&msb_mask)!=0\n",
    "\n",
    "    return lsb_on and msb_on\n",
    "    \n",
    "    \n",
    "\n",
    "n=8\n",
    "d=find(n)\n",
    "d\n"
   ]
  },
  {
   "cell_type": "markdown",
   "metadata": {},
   "source": [
    "# repeated Dna Sequence find"
   ]
  },
  {
   "cell_type": "code",
   "execution_count": 6,
   "metadata": {},
   "outputs": [
    {
     "name": "stdout",
     "output_type": "stream",
     "text": [
      "['AAAAACCCCC', 'CCCCCAAAAA']\n"
     ]
    }
   ],
   "source": [
    "l= \"AAAAACCCCCAAAAACCCCCCAAAAAGGGTTT\"\n",
    "k=10\n",
    "seen=set()\n",
    "repeated=[]\n",
    "for i in range(len(l)-k+1):\n",
    "    sequence=l[i:i+k]\n",
    "    if sequence in seen:\n",
    "        repeated.append(sequence)\n",
    "    seen.add(sequence)\n",
    "print(repeated)\n",
    "\n"
   ]
  },
  {
   "cell_type": "markdown",
   "metadata": {},
   "source": [
    "# Happy number"
   ]
  },
  {
   "cell_type": "code",
   "execution_count": 16,
   "metadata": {},
   "outputs": [
    {
     "ename": "KeyboardInterrupt",
     "evalue": "",
     "output_type": "error",
     "traceback": [
      "\u001b[0;31m---------------------------------------------------------------------------\u001b[0m",
      "\u001b[0;31mKeyboardInterrupt\u001b[0m                         Traceback (most recent call last)",
      "Cell \u001b[0;32mIn[16], line 7\u001b[0m\n\u001b[1;32m      5\u001b[0m l\u001b[38;5;241m=\u001b[39m\u001b[38;5;241m12\u001b[39m\n\u001b[1;32m      6\u001b[0m \u001b[38;5;28;01mwhile\u001b[39;00m l\u001b[38;5;241m>\u001b[39m\u001b[38;5;241m0\u001b[39m:\n\u001b[0;32m----> 7\u001b[0m     l\u001b[38;5;241m=\u001b[39m\u001b[43mgetnext\u001b[49m\u001b[43m(\u001b[49m\u001b[43ml\u001b[49m\u001b[43m)\u001b[49m\n\u001b[1;32m      8\u001b[0m \u001b[38;5;28;01mif\u001b[39;00m l\u001b[38;5;241m==\u001b[39m\u001b[38;5;241m1\u001b[39m:\n\u001b[1;32m      9\u001b[0m     \u001b[38;5;28mprint\u001b[39m(\u001b[38;5;28;01mTrue\u001b[39;00m)\n",
      "Cell \u001b[0;32mIn[16], line 2\u001b[0m, in \u001b[0;36mgetnext\u001b[0;34m(l)\u001b[0m\n\u001b[1;32m      1\u001b[0m \u001b[38;5;28;01mdef\u001b[39;00m\u001b[38;5;250m \u001b[39m\u001b[38;5;21mgetnext\u001b[39m(l):\n\u001b[0;32m----> 2\u001b[0m     s\u001b[38;5;241m=\u001b[39m\u001b[38;5;28msum\u001b[39m([\u001b[38;5;28;43mint\u001b[39;49m\u001b[43m(\u001b[49m\u001b[43mi\u001b[49m\u001b[43m)\u001b[49m\u001b[38;5;241m*\u001b[39m\u001b[38;5;241m*\u001b[39m\u001b[38;5;241m2\u001b[39m \u001b[38;5;28;01mfor\u001b[39;00m i \u001b[38;5;129;01min\u001b[39;00m \u001b[38;5;28mstr\u001b[39m(l)])\n\u001b[1;32m      3\u001b[0m     \u001b[38;5;28;01mreturn\u001b[39;00m s\n",
      "\u001b[0;31mKeyboardInterrupt\u001b[0m: "
     ]
    }
   ],
   "source": [
    "def getnext(l):\n",
    "    s=sum([int(i)**2 for i in str(l)])\n",
    "    return s\n",
    "\n",
    "l=12\n",
    "while l>0:\n",
    "    l=getnext(l)\n",
    "if l==1:\n",
    "    print(True)\n",
    "else:\n",
    "    print(False)\n",
    "    "
   ]
  },
  {
   "cell_type": "code",
   "execution_count": 22,
   "metadata": {},
   "outputs": [
    {
     "name": "stdout",
     "output_type": "stream",
     "text": [
      "[1, 3, 2, 9, 1, 5, 2, 4, 5, 6, 7, 0, 0, 0, 0, 0, 0]\n"
     ]
    }
   ],
   "source": [
    "l=[0,1,0,0,0,3,2,9,1,5,2,4,5,6,7,0,0]\n",
    "left=0\n",
    "for right in range(len(l)):\n",
    "    if l[right]!=0:\n",
    "        l[left],l[right]=l[right],l[left]\n",
    "        left+=1\n",
    "print(l)"
   ]
  },
  {
   "cell_type": "markdown",
   "metadata": {},
   "source": [
    "# valid palindrome"
   ]
  },
  {
   "cell_type": "code",
   "execution_count": null,
   "metadata": {},
   "outputs": [],
   "source": [
    "s=\"0P\"\n",
    "string=[i.lower() for i in s if i.isalpha()]\n",
    "string=\"\".join(string)\n",
    "if string==string[::-1]:\n",
    "    print(True)\n",
    "else:\n",
    "    print(False)"
   ]
  },
  {
   "cell_type": "code",
   "execution_count": 24,
   "metadata": {},
   "outputs": [
    {
     "ename": "KeyboardInterrupt",
     "evalue": "",
     "output_type": "error",
     "traceback": [
      "\u001b[0;31m---------------------------------------------------------------------------\u001b[0m",
      "\u001b[0;31mKeyboardInterrupt\u001b[0m                         Traceback (most recent call last)",
      "Cell \u001b[0;32mIn[24], line 6\u001b[0m\n\u001b[1;32m      4\u001b[0m \u001b[38;5;28;01mif\u001b[39;00m i\u001b[38;5;241m==\u001b[39m\u001b[38;5;241m0\u001b[39m:\n\u001b[1;32m      5\u001b[0m     nums2\u001b[38;5;241m.\u001b[39mappend(i)\n\u001b[0;32m----> 6\u001b[0m \u001b[38;5;28;01mfor\u001b[39;00m j \u001b[38;5;129;01min\u001b[39;00m nums2:\n\u001b[1;32m      7\u001b[0m     nums1\u001b[38;5;241m.\u001b[39mappend(j)\n\u001b[1;32m      8\u001b[0m     nums2\u001b[38;5;241m.\u001b[39mpop()\n",
      "\u001b[0;31mKeyboardInterrupt\u001b[0m: "
     ]
    }
   ],
   "source": [
    "nums1=[1,2,3,0,0,0]\n",
    "nums2=[2,5,6]\n",
    "for i in nums1:\n",
    "    if i==0:\n",
    "        nums2.append(i)\n",
    "    for j in nums2:\n",
    "        nums1.append(j)\n",
    "        nums2.pop()\n",
    "        "
   ]
  },
  {
   "cell_type": "code",
   "execution_count": null,
   "metadata": {},
   "outputs": [
    {
     "name": "stdout",
     "output_type": "stream",
     "text": [
      "False\n"
     ]
    }
   ],
   "source": [
    "def find(l,t):\n",
    "    i,j=0,0\n",
    "\n",
    "    while i<len(l) and j<len(t):\n",
    "        if l[i]==t[j]:\n",
    "            i+=1\n",
    "        j+=1\n",
    "        \n",
    "\n",
    "\n",
    "l='abc'\n",
    "t='ahbgdc'\n",
    "b=find(l,t)\n",
    "print(b)\n",
    "\n",
    "\n"
   ]
  },
  {
   "cell_type": "markdown",
   "metadata": {},
   "source": [
    "# # MAXIMUM SUM\n"
   ]
  },
  {
   "cell_type": "code",
   "execution_count": 42,
   "metadata": {},
   "outputs": [
    {
     "name": "stdout",
     "output_type": "stream",
     "text": [
      "6\n"
     ]
    }
   ],
   "source": [
    "nums=[-2,1,-3,4,-1,2,1,-5,4]\n",
    "maxp=float('-inf')\n",
    "sum=0\n",
    "for i in range(len(nums)):\n",
    "    sum+=nums[i]\n",
    "    maxp=max(maxp,sum)\n",
    "    if sum<0:\n",
    "        sum=0\n",
    "print(maxp)"
   ]
  },
  {
   "cell_type": "code",
   "execution_count": null,
   "metadata": {},
   "outputs": [],
   "source": []
  }
 ],
 "metadata": {
  "kernelspec": {
   "display_name": "sfs",
   "language": "python",
   "name": "python3"
  },
  "language_info": {
   "codemirror_mode": {
    "name": "ipython",
    "version": 3
   },
   "file_extension": ".py",
   "mimetype": "text/x-python",
   "name": "python",
   "nbconvert_exporter": "python",
   "pygments_lexer": "ipython3",
   "version": "3.13.2"
  }
 },
 "nbformat": 4,
 "nbformat_minor": 2
}
