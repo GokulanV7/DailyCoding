{
 "cells": [
  {
   "cell_type": "markdown",
   "metadata": {},
   "source": [
    "# With using MOD Find Even or Odd"
   ]
  },
  {
   "cell_type": "code",
   "execution_count": null,
   "metadata": {},
   "outputs": [],
   "source": [
    "def find(n):\n",
    "    for i in range(n):\n",
    "        n-=2\n",
    "        if n==0:\n",
    "            return 'even'\n",
    "    return 'odd'\n",
    "n=25\n",
    "l=find(n)\n",
    "print(l)\n",
    "\n",
    "\n",
    "\n",
    "#bit manupulaiton\n",
    "n=2\n",
    "if n & 1 == 0:\n",
    "    print('even')\n",
    "else:\n",
    "    print('odd')\n"
   ]
  },
  {
   "cell_type": "markdown",
   "metadata": {},
   "source": [
    "# Dont you any loop print 1 to 10"
   ]
  },
  {
   "cell_type": "code",
   "execution_count": null,
   "metadata": {},
   "outputs": [],
   "source": [
    "def find(n):\n",
    "    if n!=11:\n",
    "        print(n)\n",
    "        return find(n+1)\n",
    "n=1\n",
    "j=find(n)\n"
   ]
  }
 ],
 "metadata": {
  "kernelspec": {
   "display_name": "sfs",
   "language": "python",
   "name": "python3"
  },
  "language_info": {
   "name": "python",
   "version": "3.13.2"
  }
 },
 "nbformat": 4,
 "nbformat_minor": 2
}
