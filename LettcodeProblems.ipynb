{
 "cells": [
  {
   "cell_type": "markdown",
   "metadata": {},
   "source": [
    "Using Binary Search Find the Negative numbers Count of the arrya"
   ]
  },
  {
   "cell_type": "code",
   "execution_count": null,
   "metadata": {},
   "outputs": [],
   "source": [
    "k=[[4,3,2,-1],[3,2,1,-1],[1,1,-1,-2],[-1,-1,-2,-3]]\n",
    "negative=0\n",
    "j=[]\n",
    "for l in k:\n",
    "    l=sorted(l)\n",
    "    start=0\n",
    "    end=len(l)-1\n",
    "    while start<=end:\n",
    "        middle=start+(end-start)//2\n",
    "        if l[middle]<0:\n",
    "            negative=middle+1\n",
    "            start=middle+1\n",
    "        else:\n",
    "            end=middle-1\n",
    "    j.append(negative)    \n",
    "            \n",
    "print(sum(j))"
   ]
  },
  {
   "cell_type": "markdown",
   "metadata": {},
   "source": [
    "Longest Consecutive Sequences"
   ]
  },
  {
   "cell_type": "code",
   "execution_count": 3,
   "metadata": {},
   "outputs": [
    {
     "name": "stdout",
     "output_type": "stream",
     "text": [
      "5\n"
     ]
    }
   ],
   "source": [
    "l=[5,2,7,1,3,4]\n",
    "longest=0\n",
    "set_l=set(l)\n",
    "for i in set_l:\n",
    "    if not i-1 in set_l:\n",
    "        length=0\n",
    "        while i+length in set_l:\n",
    "            length+=1\n",
    "        longest=max(longest,length)\n",
    "print(longest)\n"
   ]
  },
  {
   "cell_type": "markdown",
   "metadata": {},
   "source": [
    "1524. Number of Sub-arrays With Odd Sum\n",
    "Given an array of integers arr, return the number of subarrays with an odd sum.\n",
    "\n",
    "Since the answer can be very large, return it modulo 109 + 7."
   ]
  },
  {
   "cell_type": "code",
   "execution_count": 1,
   "metadata": {},
   "outputs": [
    {
     "name": "stdout",
     "output_type": "stream",
     "text": [
      "4\n"
     ]
    }
   ],
   "source": [
    "class Solution(object):\n",
    "    def numOfSubarrays(self, arr):\n",
    "        MOD = 10**9 + 7\n",
    "        even_count=1\n",
    "        odd_count=0\n",
    "        result=0\n",
    "        prefix_sum=0\n",
    "        for i in arr:\n",
    "            prefix_sum+=i\n",
    "            if prefix_sum%2==1:\n",
    "                result+=even_count\n",
    "                odd_count+=1\n",
    "            else:\n",
    "                result+=odd_count\n",
    "                even_count+=1\n",
    "        return result % MOD\n",
    "h=Solution()\n",
    "l=[1,3,5]\n",
    "j=h.numOfSubarrays(l)\n",
    "print(j)\n",
    "        "
   ]
  },
  {
   "cell_type": "markdown",
   "metadata": {},
   "source": [
    "1749. Maximum Absolute Sum of Any Subarray\n",
    "        BROUTE FORECE METHOD"
   ]
  },
  {
   "cell_type": "code",
   "execution_count": null,
   "metadata": {},
   "outputs": [],
   "source": [
    "l=[1,-3,2,3,-4]\n",
    "s=0\n",
    "longest=0\n",
    "for i in range(len(l)):\n",
    "    for j in range(i,len(l)):\n",
    "        s=sum(l[i:j+1])\n",
    "        longest=max(longest,s)\n"
   ]
  },
  {
   "cell_type": "markdown",
   "metadata": {},
   "source": [
    "1749. Maximum Absolute Sum of Any Subarray\n",
    "PREFIXSUM METHOD"
   ]
  },
  {
   "cell_type": "code",
   "execution_count": 5,
   "metadata": {},
   "outputs": [
    {
     "name": "stdout",
     "output_type": "stream",
     "text": [
      "8\n"
     ]
    }
   ],
   "source": [
    "l=[2,-5,1,-4,3,-2]\n",
    "min_point=0\n",
    "max_point=0\n",
    "prefix_sum=0\n",
    "for i in l:\n",
    "    prefix_sum+=i\n",
    "    min_point=min(min_point,prefix_sum)\n",
    "    max_point=max(max_point,prefix_sum)\n",
    "\n",
    "print(max_point+abs(min_point))"
   ]
  },
  {
   "cell_type": "markdown",
   "metadata": {},
   "source": [
    "# Minimum Size Subarray Sum #\n",
    "# Using Sliding window PrefixSum #"
   ]
  },
  {
   "cell_type": "code",
   "execution_count": null,
   "metadata": {},
   "outputs": [
    {
     "name": "stdout",
     "output_type": "stream",
     "text": [
      "6\n"
     ]
    }
   ],
   "source": [
    "class Solution(object):\n",
    "    def minSubArrayLen(self, target, nums):\n",
    "        #Sliding window\n",
    "        prefix_sum=0\n",
    "        min_length=len(nums)+1\n",
    "        left=0\n",
    "        for right in range(len(nums)):\n",
    "            prefix_sum+=nums[right]\n",
    "            while prefix_sum>=target:\n",
    "                min_length=min(min_length,right-left+1)\n",
    "                prefix_sum-=nums[left]\n",
    "                left+=1\n",
    "        return min_length if min_length<=len(nums) else 0\n",
    "\n",
    "                \n",
    "        "
   ]
  },
  {
   "cell_type": "markdown",
   "metadata": {},
   "source": [
    "# Merge Two Linked List Sorted Order #"
   ]
  },
  {
   "cell_type": "code",
   "execution_count": 8,
   "metadata": {},
   "outputs": [
    {
     "name": "stdout",
     "output_type": "stream",
     "text": [
      "1 1 2 3 4 5 "
     ]
    }
   ],
   "source": [
    "class ListNode:\n",
    "    def __init__(self,data):\n",
    "        self.data=data\n",
    "        self.next=None\n",
    "\n",
    "\n",
    "def meragesort(list1,list2):\n",
    "    dummy=ListNode(0)\n",
    "    cur=dummy\n",
    "    while list1 and list2:\n",
    "        if list1.data<=list2.data:\n",
    "            cur.next=list1\n",
    "            list1=list1.next\n",
    "        else:\n",
    "            cur.next=list2\n",
    "            list2=list2.next\n",
    "        cur=cur.next\n",
    "    cur.next=list1 if list1 else list2\n",
    "    return dummy.next\n",
    "\n",
    "\n",
    "def createLL(lst):\n",
    "    dummy=ListNode(0)\n",
    "    cur=dummy\n",
    "    for i in lst:\n",
    "        cur.next=ListNode(i)\n",
    "        cur=cur.next\n",
    "    return dummy.next\n",
    "\n",
    "def traverse(s):\n",
    "    while s:\n",
    "        print(s.data,end=' ')\n",
    "        s=s.next\n",
    "    \n",
    "lst1=[1,3,5]\n",
    "lst2=[1,2,4]\n",
    "list1=createLL(lst1)\n",
    "list2=createLL(lst2)\n",
    "k=meragesort(list1,list2)\n",
    "traverse(k)\n",
    "\n",
    "\n",
    "\n",
    "\n"
   ]
  },
  {
   "cell_type": "markdown",
   "metadata": {},
   "source": [
    "# Buy and Sell Sliding window#"
   ]
  },
  {
   "cell_type": "code",
   "execution_count": 2,
   "metadata": {},
   "outputs": [
    {
     "name": "stdout",
     "output_type": "stream",
     "text": [
      "5\n"
     ]
    }
   ],
   "source": [
    "prices=[7,1,5,3,6,4]\n",
    "l,r=0,1\n",
    "maxp=0\n",
    "while r<len(prices):\n",
    "    if prices[l]<prices[r]:\n",
    "        profit=prices[r]-prices[l]\n",
    "        maxp=max(maxp,profit)\n",
    "    else:\n",
    "        l=r\n",
    "    r+=1\n",
    "print(maxp)"
   ]
  },
  {
   "cell_type": "markdown",
   "metadata": {},
   "source": [
    "# Longest SubString without Repeationg #\n"
   ]
  },
  {
   "cell_type": "code",
   "execution_count": null,
   "metadata": {},
   "outputs": [
    {
     "name": "stdout",
     "output_type": "stream",
     "text": [
      "3\n"
     ]
    }
   ],
   "source": [
    "s='abcabcbb'\n",
    "char_set=set()\n",
    "l=0\n",
    "maxp=0\n",
    "for r in range(len(s)):\n",
    "    while s[r] in char_set:\n",
    "        char_set.remove(s[r])\n",
    "        l+=1\n",
    "    char_set.add(s[r])\n",
    "    maxp=max(maxp,len(char_set))\n",
    "print(maxp)\n",
    "        \n"
   ]
  },
  {
   "cell_type": "markdown",
   "metadata": {},
   "source": [
    "# Sieve Loop #"
   ]
  },
  {
   "cell_type": "code",
   "execution_count": null,
   "metadata": {},
   "outputs": [
    {
     "name": "stdout",
     "output_type": "stream",
     "text": [
      "[-1, -1]\n"
     ]
    }
   ],
   "source": [
    "\n",
    "\n",
    "\n",
    "from math import sqrt\n",
    "def getPrime(left,right):\n",
    "    isprime=[True]*(right+1)\n",
    "    isprime[0]=isprime[1]=False\n",
    "    for n in range(2,int(sqrt(right))+1):\n",
    "        if not isprime[n]:\n",
    "            continue\n",
    "        for m in range(n*n,right+1,n):\n",
    "            isprime[m]=False\n",
    "    primes=[]\n",
    "    for i in range(len(isprime)):\n",
    "        if isprime[i] and i>=left:\n",
    "            primes.append(i)\n",
    "    return primes\n",
    "\n",
    "\n",
    "\n",
    "primes1=getPrime(10,19)\n",
    "result=[-1,-1]\n",
    "diff=float('inf')\n",
    "for i in range(1,len(primes1)):\n",
    "    if primes1[i]-primes1[i-1] <diff:\n",
    "        diff=primes1[i]-primes1[i-1]\n",
    "        result=[primes1[i-1],primes1[i]]\n",
    "print(result)"
   ]
  },
  {
   "cell_type": "code",
   "execution_count": 16,
   "metadata": {},
   "outputs": [
    {
     "name": "stdout",
     "output_type": "stream",
     "text": [
      "0\n"
     ]
    }
   ],
   "source": [
    "from collections import defaultdict\n",
    "\n",
    "def atlesl(k, word):\n",
    "    vowel = defaultdict(int)\n",
    "    l = 0\n",
    "    no_vowel = 0\n",
    "    res = 0\n",
    "    \n",
    "    for r in range(len(word)):\n",
    "        if word[r] in 'aeiou':\n",
    "            vowel[word[r]] += 1\n",
    "        else:\n",
    "            no_vowel += 1\n",
    "\n",
    "        while len(vowel) == 5 and no_vowel >= k:\n",
    "            res += (len(word) - r)\n",
    "            if word[l] in 'aeiou':  \n",
    "                vowel[word[l]] -= 1\n",
    "            else:\n",
    "                no_vowel-=1\n",
    "            \n",
    "            if vowel[word[l]] == 0:\n",
    "                vowel.pop(word[l])\n",
    "        \n",
    "            \n",
    "            l += 1\n",
    "\n",
    "    return res\n",
    "\n",
    "k = 0\n",
    "word = 'aeioqq'\n",
    "a = atlesl(k, word) - atlesl(k + 1, word)\n",
    "print(a)\n"
   ]
  },
  {
   "cell_type": "code",
   "execution_count": null,
   "metadata": {},
   "outputs": [
    {
     "name": "stdout",
     "output_type": "stream",
     "text": [
      "False\n"
     ]
    }
   ],
   "source": [
    "n=9\n",
    "print(n&8!=0)"
   ]
  },
  {
   "cell_type": "markdown",
   "metadata": {},
   "source": [
    "# 1358. Number of Substrings Containing All Three Characters #\n",
    "\n"
   ]
  },
  {
   "cell_type": "code",
   "execution_count": 16,
   "metadata": {},
   "outputs": [
    {
     "name": "stdout",
     "output_type": "stream",
     "text": [
      "10\n"
     ]
    }
   ],
   "source": [
    "from collections import defaultdict\n",
    "\n",
    "hashmap=defaultdict(int)\n",
    "v=''\n",
    "left=0\n",
    "\n",
    "l='abcabc'\n",
    "n=len(l)\n",
    "count=0\n",
    "for right in range(n):\n",
    "    hashmap[l[right]]+=1\n",
    "    if hashmap.get('a', 0) > 0 and hashmap.get('b', 0) > 0 and hashmap.get('c', 0) > 0:\n",
    "        count+=(n-right)\n",
    "        hashmap[l[left]]-=1\n",
    "        left+=1\n",
    "    else:\n",
    "        continue\n",
    "\n",
    "print(count)\n"
   ]
  },
  {
   "cell_type": "markdown",
   "metadata": {},
   "source": [
    "# Broute Froce # \n",
    "# 132 Pattern\n"
   ]
  },
  {
   "cell_type": "code",
   "execution_count": 24,
   "metadata": {},
   "outputs": [],
   "source": [
    "l=[-1,3,2,0]\n",
    "n=len(l)\n",
    "for i in range(n-2):\n",
    "    j=l[i+1]\n",
    "    k=l[i+2]\n",
    "    if l[i]<l[k] and l[k]<l[j]:\n",
    "        print([l[i],l[k],[j]])\n"
   ]
  },
  {
   "cell_type": "code",
   "execution_count": null,
   "metadata": {},
   "outputs": [],
   "source": []
  }
 ],
 "metadata": {
  "kernelspec": {
   "display_name": "sfs",
   "language": "python",
   "name": "python3"
  },
  "language_info": {
   "codemirror_mode": {
    "name": "ipython",
    "version": 3
   },
   "file_extension": ".py",
   "mimetype": "text/x-python",
   "name": "python",
   "nbconvert_exporter": "python",
   "pygments_lexer": "ipython3",
   "version": "3.13.2"
  }
 },
 "nbformat": 4,
 "nbformat_minor": 2
}
